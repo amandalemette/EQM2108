{
  "nbformat": 4,
  "nbformat_minor": 0,
  "metadata": {
    "colab": {
      "provenance": []
    },
    "kernelspec": {
      "name": "python3",
      "display_name": "Python 3"
    },
    "language_info": {
      "name": "python"
    }
  },
  "cells": [
    {
      "cell_type": "code",
      "execution_count": 11,
      "metadata": {
        "id": "iInXCxQIfZ_g"
      },
      "outputs": [],
      "source": [
        "import numpy as np\n",
        "import matplotlib.pyplot as plt\n",
        "from scipy.integrate import odeint\n",
        "import math\n",
        "%matplotlib inline"
      ]
    },
    {
      "cell_type": "code",
      "source": [],
      "metadata": {
        "id": "ONZ1W54wge4C"
      },
      "execution_count": null,
      "outputs": []
    },
    {
      "cell_type": "markdown",
      "metadata": {
        "id": "eSuRt2aGOTjU"
      },
      "source": [
        "## Problema proposto"
      ]
    },
    {
      "cell_type": "markdown",
      "source": [
        "Vamos simular a operação de um biorreator ideal do tipo semi batelada que processa a reação seguinte:"
      ],
      "metadata": {
        "id": "CsFVnUw-OgAh"
      }
    },
    {
      "cell_type": "markdown",
      "metadata": {
        "id": "ubI97dVLOTjV"
      },
      "source": [
        "$$\n",
        "A \\longrightarrow P\n",
        "$$"
      ]
    },
    {
      "cell_type": "markdown",
      "source": [
        "Vamos considerar:\n",
        "- reação isotérmica (temperatura constante)\n",
        "- mistura é ideal\n",
        "- alimentação não possue biomassa\n",
        "- a densidade da alimentação e saída possuem densidade constante e iguais\n",
        "- vazão de alimentação é igual a vazão de saída\n",
        "- o meio de cultura só possui um único tipo de biomassa crescendo com um único substrato\n",
        "-reação de 1a ordem\n",
        "\n",
        "Modelo:\n",
        "Balanço de massa\n",
        "$$\n",
        "{\\frac{d(pV)}{dt}} = Fp - Fp = 0\n",
        "$$\n",
        "para uma biorreator:\n",
        "\n",
        "- Taxa de biomassa entrando do reator = Fxf\n",
        "- Taxa de biomassa saindo do reator = Fx\n",
        "- Taxa de geração de biomassa\n",
        "- acumulo de biomassa no reator = d(Vx)/dt\n",
        "\n",
        "$$\n",
        "{\\frac{d(Vx)}{dt}} = Fx_f - Fx + Vr_1\n",
        "$$\n",
        "\n",
        "sendo r1 a taxa de geração de células\n",
        " Dividindo os dois lados por V:\n",
        "$$\n",
        "{\\frac{d(x)}{dt}} = {\\frac{F}{V}}x_f - {\\frac{F}{V}}x + r_1\n",
        "$$\n",
        "a razão F/V pode ser descrita como tempo espacial do reator D. No entanto, no ramo da engenharia bioquímica, F/V é referido como taxa de diluiçao, provavelmente relacionado a diluição da biomassa no biorreator. Ficando assim:\n",
        "\n",
        "$$\n",
        "{\\frac{d(x)}{dt}} = D(x_f - x) + r_1\n",
        "$$\n",
        "\n",
        "Para o balanço de massa do substrato, faz-se com a taxa de consumo do substrato e manipulando tem-se:\n",
        "\n",
        "$$\n",
        "{\\frac{d(S)}{dt}} = D(S_f - S) - r_2\n",
        "$$\n",
        "\n",
        "A taxa de 1a ordem fica da forma para reação do produto A\n",
        "\n",
        "$$\n",
        "r = k\\cdot C_A\n",
        "$$\n",
        "\n"
      ],
      "metadata": {
        "id": "DDy3xBNAOmU6"
      }
    },
    {
      "cell_type": "code",
      "source": [
        ""
      ],
      "metadata": {
        "id": "DjWsujGYpPQG"
      },
      "execution_count": null,
      "outputs": []
    },
    {
      "cell_type": "markdown",
      "source": [
        "Sabe-se que a taxa de crescimento de bactérias depende do meio que elas estão. Assim, estipula-se que a taxa de crescimento é função da concentração de subtrato no meio de cultura. Sendo o rendimento do produto P em relação ao reagente A:\n",
        "\n",
        "$$\n",
        "r_1 = \\mu x\n",
        "$$\n",
        "Com rendimento constante:\n",
        "$$\n",
        "Y = {\\frac{r_1}{r_2}} = {\\frac{massa\\ de\\ células\\ formadas}{massa\\ de\\ substrato\\ consumido}}\n",
        "$$\n",
        "\n",
        "assim a relação entre taxas é:\n",
        "\n",
        "$$\n",
        "r_2 = {\\frac{r_1}{Y}}\n",
        "$$\n",
        "Substituindo no balanço de massa:\n",
        "\n",
        "$$\n",
        "{\\frac{d(x)}{dt}} = D(x_f - x) + \\mu x\n",
        "$$\n",
        "\n",
        "$$\n",
        "{\\frac{d(S)}{dt}} = D(S_f - S) - {\\frac{d(\\mu x)}{dY}}\n",
        "$$\n",
        "\n",
        "Para esse caso em que a alimentação não contem biomassa (xf = 0):\n",
        "\n",
        "$$\n",
        "{\\frac{d(x)}{dt}} = (\\mu  - D)x\n",
        "$$\n",
        "\n",
        "$$\n",
        "{\\frac{d(S)}{dt}} = D(S_f - S) - {\\frac{(\\mu x)}{Y}}\n",
        "$$\n",
        "\n",
        " Como a crescimento específico (u) não é constante e varia com a concentração de substrato, é necessário escolher um modelo para estimar essa correlação. O modelo escolhido para esse trabalho é o de Monod\n",
        "\n",
        "$$\n",
        "\\mu = {\\frac{\\mu _mS}{K_m+S}}\n",
        "$$\n",
        "\n",
        "sendo \\mu_m o crescimento específico máximo e K_m a concentração de substrato limitante quando o crescimento específico é igual a metade do cresciemnto específico máximo. Ambos são parâmetros obtidos experimentalmente e não tem interpretação física direta.  \n",
        "\n",
        "No entanto o proposto pelo livro é o uso de um reator tipo semi batelada em que etanol é produzido a partir da Saccharomyces cerevisiae com glicose como substrato:"
      ],
      "metadata": {
        "id": "Vy4zVQrWxMxf"
      }
    },
    {
      "cell_type": "code",
      "source": [
        "#reator batelada\n",
        "um = 0.53 #h^-1\n",
        "Km = 0.12 # g/l\n",
        "D = 0.3 #h^-1\n",
        "Sf = 4.0 #g/l\n",
        "Y = 0.4\n"
      ],
      "metadata": {
        "id": "4Ag9TtQD9QoM"
      },
      "execution_count": 26,
      "outputs": []
    },
    {
      "cell_type": "code",
      "source": [
        "#definindo mu em funça~ode outras variaveis\n",
        "def mu1 (S):\n",
        "  return um*S/(Km+S)\n"
      ],
      "metadata": {
        "id": "et82kHdm98-N"
      },
      "execution_count": 27,
      "outputs": []
    },
    {
      "cell_type": "code",
      "source": [
        "#definindo as EDOs\n",
        "def bat(x,t):\n",
        "  X,S,P = x\n",
        "  dX = X*(mu1(S)-D)\n",
        "  dS = D*(Sf-S)-(mu1(S)*X/Y)\n",
        "  dP = -dS\n",
        "  return [dX,dS,dP]\n",
        "\n"
      ],
      "metadata": {
        "id": "sHFY6hIV-atV"
      },
      "execution_count": 39,
      "outputs": []
    },
    {
      "cell_type": "code",
      "source": [
        "IC1 = [1, 1.0, 0]\n",
        "\n",
        "t = np.linspace(0,30, 6000)\n",
        "sol = odeint(bat,IC1,t)\n",
        "X,S,P = sol.transpose()\n",
        "\n",
        "plt.plot(t,X)\n",
        "plt.plot(t,S)\n",
        "plt.plot(t,P)\n",
        "\n",
        "\n",
        "plt.xlabel('Tempo [hr]')\n",
        "plt.ylabel('Concentração [g/l]')\n",
        "plt.legend(['Conc. Celulas',\n",
        "            'Conc. glicose',\n",
        "            'Conc. etanol'])"
      ],
      "metadata": {
        "colab": {
          "base_uri": "https://localhost:8080/",
          "height": 470
        },
        "id": "W9tTWNLc_6qe",
        "outputId": "6adbfac8-cd6b-4f44-91c5-907f7eb86295"
      },
      "execution_count": 43,
      "outputs": [
        {
          "output_type": "execute_result",
          "data": {
            "text/plain": [
              "<matplotlib.legend.Legend at 0x7f91f0747880>"
            ]
          },
          "metadata": {},
          "execution_count": 43
        },
        {
          "output_type": "display_data",
          "data": {
            "text/plain": [
              "<Figure size 640x480 with 1 Axes>"
            ],
            "image/png": "[encoded data removed]"
          },
          "metadata": {}
        }
      ]
    },
    {
      "cell_type": "markdown",
      "source": [
        "Observa-se que a reação estabiliza muito rápido em um reator batelada. Dessa forma, o livro sugere que seja em pregado um reator semi-batelada para aumentar a eficiência do processo."
      ],
      "metadata": {
        "id": "pX5zUg1qCP3U"
      }
    },
    {
      "cell_type": "markdown",
      "source": [
        "Pra um reator de semi-batelada tem-se a adição de reagente em um reator batelada ao longo do processo em que o volume da solução aumenta ocm o tempo.\n",
        "\n",
        "$$\n",
        "{\\frac{d(V)}{dt}} = F\n",
        "$$\n",
        "\n",
        "Para função do rendimento:\n",
        "\n",
        "$$\n",
        "{\\frac{d(x)}{dt}} = \\mu x - {\\frac{F}{V}}x\n",
        "$$\n",
        "E para o substrato S:\n",
        "\n",
        "$$\n",
        "{\\frac{d(S)}{dt}} = -\\sigma x - {\\frac{F}{V}}(Sf-S)\n",
        "$$\n",
        "\n",
        "E produto P\n",
        "\n",
        "$$\n",
        "{\\frac{d(P)}{dt}} =\\pi x - {\\frac{F}{V}}P\n",
        "$$\n",
        "\n",
        "Essas equações tem dois novos termos: taxa de consumo de substrato \\sigma e taxa de formação de produto \\pi\n",
        "\n",
        "$$\n",
        "\\mu = {\\frac{0.408S}{0.22 + S}}e^-0.028P\n",
        "$$\n",
        "\n",
        "$$\n",
        "\\sigma = {\\frac{\\mu}{0.1}}\n",
        "$$\n",
        "\n",
        "$$\n",
        "\\pi = {\\frac{S}{0.44 + S}}e^-0.015P\n",
        "$$"
      ],
      "metadata": {
        "id": "XZrfspW0sD1q"
      }
    },
    {
      "cell_type": "code",
      "source": [
        "from re import finditer\n",
        "#Condições iniciais\n",
        "x0 = 0.2 #concentração inicial de biomassa (g/l)\n",
        "S0 = 100 #concentração inicial de glicose (g/l)\n",
        "P0 = 0 #concentração inicial de etanol (g/l)\n",
        "V0 = 1 #Volume inicial (l)\n",
        "tf = 20 # tempo de integração (h^-1)\n",
        "finditer = 1 #(h^-1)\n",
        "intt = 0.004 #(h)"
      ],
      "metadata": {
        "id": "9cMXopXWnIu-"
      },
      "execution_count": 4,
      "outputs": []
    },
    {
      "cell_type": "code",
      "source": [
        "#entrada de volume\n",
        "def F(t):\n",
        "  return 1\n",
        "#Taxas de reação\n",
        "def mu (S,P):\n",
        "  return 0.408*S*math.exp(-0.028*P)/(0.22+S)\n",
        "def Rs(S,P):\n",
        "  return mu(S,P)/0.1\n",
        "def Rp(S,P):\n",
        "  return  S*math.exp(-0.015*P)/(0.44+S)\n",
        "\n"
      ],
      "metadata": {
        "id": "nPboKgDRoJT6"
      },
      "execution_count": 20,
      "outputs": []
    },
    {
      "cell_type": "code",
      "source": [
        "#definindo o sistema de equações\n",
        "def EDO(x,t):\n",
        "  X,P,S,V = x\n",
        "  dX = mu(S,P)*X - F(t)*X/V\n",
        "  dP = -F(t)*P/V + Rp(S,P)\n",
        "  dS = F(t)*(S0-S)/V - Rs(S,P)*X\n",
        "  dV = F(t)\n",
        "  return [dX,dP,dS,dV]"
      ],
      "metadata": {
        "id": "kxiWJb7Wokkj"
      },
      "execution_count": 21,
      "outputs": []
    },
    {
      "cell_type": "code",
      "source": [
        "IC = [x0, P0, S0, V0]\n",
        "\n",
        "t = np.linspace(0,30, 7500)\n",
        "sol = odeint(EDO,IC,t)\n",
        "X,P,S,V = sol.transpose()\n",
        "\n",
        "plt.plot(t,X)\n",
        "plt.plot(t,P)\n",
        "plt.plot(t,S)\n",
        "plt.plot(t,V)\n",
        "\n",
        "plt.xlabel('Tempo [hr]')\n",
        "plt.ylabel('Concentração [g/l]')\n",
        "plt.legend(['Conc. Celulas',\n",
        "            'Conc. etanol',\n",
        "            'Conc. glicose',\n",
        "            'Volume [l]'])"
      ],
      "metadata": {
        "colab": {
          "base_uri": "https://localhost:8080/",
          "height": 467
        },
        "id": "ni2yMSjJzh1F",
        "outputId": "69c80e3b-57e3-43c9-f2f6-1bb591fd49fe"
      },
      "execution_count": 25,
      "outputs": [
        {
          "output_type": "execute_result",
          "data": {
            "text/plain": [
              "<matplotlib.legend.Legend at 0x7f91fa151ab0>"
            ]
          },
          "metadata": {},
          "execution_count": 25
        },
        {
          "output_type": "display_data",
          "data": {
            "text/plain": [
              "<Figure size 640x480 with 1 Axes>"
            ],
            "image/png": "[encoded data removed]"
          },
          "metadata": {}
        }
      ]
    },
    {
      "cell_type": "markdown",
      "source": [
        "Observa-se que após 20h de reação a quantidade de glicose é próxima à zero, assim a taxa de reação cai para próximo de zero também, sinalizando a finalização da reação.\n",
        "Comparando com os resultados do livro, os valores de saturação estão condizendo com os gráficos apresentados pelo livro."
      ],
      "metadata": {
        "id": "3LiYVF4O2ZWG"
      }
    },
    {
      "cell_type": "code",
      "source": [],
      "metadata": {
        "id": "NXWHs4942ZI-"
      },
      "execution_count": null,
      "outputs": []
    }
  ]
}