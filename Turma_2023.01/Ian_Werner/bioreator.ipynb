{
  "nbformat": 4,
  "nbformat_minor": 0,
  "metadata": {
    "colab": {
      "provenance": []
    },
    "kernelspec": {
      "name": "python3",
      "display_name": "Python 3"
    },
    "language_info": {
      "name": "python"
    }
  },
  "cells": [
    {
      "cell_type": "code",
      "execution_count": 1,
      "metadata": {
        "id": "iInXCxQIfZ_g"
      },
      "outputs": [],
      "source": [
        "import numpy as np\n",
        "import matplotlib.pyplot as plt\n",
        "import scipy.integrate\n",
        "%matplotlib inline"
      ]
    },
    {
      "cell_type": "code",
      "source": [],
      "metadata": {
        "id": "ONZ1W54wge4C"
      },
      "execution_count": null,
      "outputs": []
    },
    {
      "cell_type": "markdown",
      "metadata": {
        "id": "eSuRt2aGOTjU"
      },
      "source": [
        "## Problema proposto"
      ]
    },
    {
      "cell_type": "markdown",
      "source": [
        "Vamos simular a operação de um biorreator ideal do tipo CSTR que processa a reação seguinte:"
      ],
      "metadata": {
        "id": "CsFVnUw-OgAh"
      }
    },
    {
      "cell_type": "markdown",
      "metadata": {
        "id": "ubI97dVLOTjV"
      },
      "source": [
        "$$\n",
        "A \\longrightarrow P\n",
        "$$"
      ]
    },
    {
      "cell_type": "markdown",
      "source": [
        "Vamos considerar:\n",
        "- reação isotérmica (temperatura constante)\n",
        "- mistura é ideal \n",
        "- alimentação não possue biomassa\n",
        "- a densidade da alimentação e saída possuem densidade constante e iguais\n",
        "- vazão de alimentação é igual a vazão de saída\n",
        "- o meio de cultura só possui um único tipo de biomassa crescendo com um único substrato\n",
        "-reação de 1a ordem\n",
        "\n",
        "Modelo:\n",
        "Balanço de massa\n",
        "$$\n",
        "{\\frac{d(pV)}{dt}} = Fp - Fp = 0\n",
        "$$\n",
        "para uma biorreator:\n",
        "\n",
        "- Taxa de biomassa entrando do reator = Fxf\n",
        "- Taxa de biomassa saindo do reator = Fx\n",
        "- Taxa de geração de biomassa\n",
        "- acumulo de biomassa no reator = d(Vx)/dt\n",
        "\n",
        "$$\n",
        "{\\frac{d(Vx)}{dt}} = Fx_f - Fx + Vr_1\n",
        "$$\n",
        "\n",
        "sendo r1 a taxa de geração de células\n",
        " Dividindo os dois lados por V:\n",
        "$$\n",
        "{\\frac{d(x)}{dt}} = {\\frac{F}{V}}x_f - {\\frac{F}{V}}x + r_1\n",
        "$$\n",
        "a razão F/V pode ser descrita como tempo espacial do reator D. No entanto, no ramo da engenharia bioquímica, F/V é referido como taxa de diluiçao, provavelmente relacionado a diluição da biomassa no biorreator. Ficando assim:\n",
        "\n",
        "$$\n",
        "{\\frac{d(x)}{dt}} = D(x_f - x) + r_1\n",
        "$$\n",
        "\n",
        "Para o balanço de massa do substrato, faz-se com a taxa de consumo do substrato e manipulando tem-se:\n",
        "\n",
        "$$\n",
        "{\\frac{d(S)}{dt}} = D(S_f - S) - r_2\n",
        "$$\n",
        "\n",
        "A taxa de 1a ordem fica da forma para reação do produto A\n",
        "\n",
        "$$\n",
        "r = k\\cdot C_A\n",
        "$$\n",
        "\n"
      ],
      "metadata": {
        "id": "DDy3xBNAOmU6"
      }
    },
    {
      "cell_type": "code",
      "source": [
        " "
      ],
      "metadata": {
        "id": "DjWsujGYpPQG"
      },
      "execution_count": null,
      "outputs": []
    },
    {
      "cell_type": "markdown",
      "source": [
        "Sabe-se que a taxa de crescimento de bactérias depende do meio que elas estão. Assim, estipula-se que a taxa de crescimento é função da concentração de subtrato no meio de cultura. Sendo o rendimento do produto P em relação ao reagente A:\n",
        "\n",
        "$$\n",
        "r_1 = \\mu x\n",
        "$$\n",
        "Com rendimento constante: \n",
        "$$\n",
        "Y = {\\frac{r_1}{r_2}} = {\\frac{massa\\ de\\ células\\ formadas}{massa\\ de\\ substrato\\ consumido}} \n",
        "$$\n",
        "\n",
        "assim a relação entre taxas é:\n",
        "\n",
        "$$\n",
        "r_2 = {\\frac{r_1}{Y}}\n",
        "$$\n",
        "Substituindo no balanço de massa:\n",
        "\n",
        "$$\n",
        "{\\frac{d(x)}{dt}} = D(x_f - x) + \\mu x\n",
        "$$\n",
        "\n",
        "$$\n",
        "{\\frac{d(S)}{dt}} = D(S_f - S) - {\\frac{d(\\mu x)}{dY}}\n",
        "$$\n",
        "\n",
        "Para esse caso em que a alimentação não contem biomassa (xf = 0):\n",
        "\n",
        "$$\n",
        "{\\frac{d(x)}{dt}} = (\\mu  - D)x\n",
        "$$\n",
        "\n",
        "$$\n",
        "{\\frac{d(S)}{dt}} = D(S_f - S) - {\\frac{d(\\mu x)}{dY}}\n",
        "$$\n",
        " \n",
        " Como a crescimento específico (u) não é constante e varia com a concentração de substrato, é necessário escolher um modelo para estimar essa correlação. O modelo escolhido para esse trabalho é o de Monod\n",
        "\n",
        "$$\n",
        "\\mu = {\\frac{\\mu _mS}{K_m+S}}\n",
        "$$\n",
        "\n",
        "sendo \\mu_m o crescimento específico máximo e K_m a concentração de substrato limitante quando o crescimento específico é igual a metade do cresciemnto específico máximo. Ambos são parâmetros obtidos experimentalmente e não tem interpretação física direta.  "
      ],
      "metadata": {
        "id": "Vy4zVQrWxMxf"
      }
    }
  ]
}