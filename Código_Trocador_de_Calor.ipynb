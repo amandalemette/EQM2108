{
  "nbformat": 4,
  "nbformat_minor": 0,
  "metadata": {
    "colab": {
      "provenance": [],
      "include_colab_link": true
    },
    "kernelspec": {
      "name": "python3",
      "display_name": "Python 3"
    },
    "language_info": {
      "name": "python"
    }
  },
  "cells": [
    {
      "cell_type": "markdown",
      "metadata": {
        "id": "view-in-github",
        "colab_type": "text"
      },
      "source": [
        "<a href=\"https://colab.research.google.com/github/amandalemette/EQM2108/blob/lorenasatler-patch-1/C%C3%B3digo_Trocador_de_Calor.ipynb\" target=\"_parent\"><img src=\"https://colab.research.google.com/assets/colab-badge.svg\" alt=\"Open In Colab\"/></a>"
      ]
    },
    {
      "cell_type": "code",
      "source": [
        "#Importando as bibliotecas necessárias\n",
        "import numpy as np\n",
        "from scipy.integrate import odeint\n",
        "import matplotlib.pyplot as plt\n",
        "%matplotlib inline"
      ],
      "metadata": {
        "id": "XJWjorMExwNn"
      },
      "execution_count": 22,
      "outputs": []
    },
    {
      "cell_type": "code",
      "execution_count": 23,
      "metadata": {
        "id": "AIyy1Q8u23fW"
      },
      "outputs": [],
      "source": [
        "N = 3 #divisões do trocador\n",
        "L = 3 #tamanho do trocador em metros\n",
        "\n",
        "#Dados fornecidos\n",
        "T_ref= 293.15 #K\n",
        "ri= 0.1 #m\n",
        "roi= 0.12 #m\n",
        "roe = 0.15 #m\n",
        "dz = L/N #m\n",
        "k = 450000 #W/mˆ2k\n",
        "\n",
        "# Dados do fluido do lado do casco (sheet) (água fria)\n",
        "Cps = 4185 #J/kgK\n",
        "T0s = 250 #K\n",
        "As = 0.02543 #m pi*(0,15-0,12)**2\n",
        "rho_s = 1000 #kg/mˆ3\n",
        "Fs = 0.1 #mˆ3/s\n",
        "\n",
        "\n",
        "# Dados do fluido do lado do tudo (solução)\n",
        "Cpt = 1200 #J/kgK\n",
        "T0t = 330 #K\n",
        "At = 0.0314 #m pi*0.1**2\n",
        "rho_t = 1030 #kg/mˆ3\n",
        "Ft = 0.2 #mˆ3/s"
      ]
    },
    {
      "cell_type": "code",
      "source": [
        "t_final = 10 #tempo de simulação\n",
        "dt = 1"
      ],
      "metadata": {
        "id": "rKJJDFL7x0bH"
      },
      "execution_count": 24,
      "outputs": []
    },
    {
      "cell_type": "code",
      "source": [
        "Tt_out = np.zeros(N)*T0t\n",
        "Ts_out = np.zeros(N)*T0s"
      ],
      "metadata": {
        "id": "_3m6z5aOyZI2"
      },
      "execution_count": 25,
      "outputs": []
    },
    {
      "cell_type": "code",
      "source": [
        "t = np.arange(0,t_final,dt)"
      ],
      "metadata": {
        "id": "YNZiQfTe1DrL"
      },
      "execution_count": 26,
      "outputs": []
    },
    {
      "cell_type": "code",
      "source": [
        "x0 = [T0t,T0t,T0t,T0s,T0s,T0s]"
      ],
      "metadata": {
        "id": "4Qx9xj0Frluk"
      },
      "execution_count": 27,
      "outputs": []
    },
    {
      "cell_type": "code",
      "source": [
        "def EDO (y,t):\n",
        "\n",
        "  Tt_out = y[0:3]\n",
        "  Ts_out = y[3:]\n",
        "\n",
        "  dydt = np.zeros(len(y))\n",
        "\n",
        "  # lado do tubo\n",
        "  dydt[0] = (rho_t*Cpt*Ft*(T0t - Tt_out[0]) - k*At*(Tt_out[0]-Ts_out[0])/dz)/rho_t*At*dz*Cpt\n",
        "  dydt[1] = (rho_t*Cpt*Ft*(Tt_out[0] - Tt_out[1]) - k*At*(Tt_out[1]-Ts_out[1])/dz)/rho_t*At*dz*Cpt\n",
        "  dydt[2] = (rho_t*Cpt*Ft*(Tt_out[1] - Tt_out[2]) - k*At*(Tt_out[2]-Ts_out[2])/dz)/rho_t*At*dz*Cpt\n",
        "\n",
        "  # lado do casco\n",
        "  dydt[3] = (rho_s*Cps*Fs*(T0s - Ts_out[0]) - k*As*(Ts_out[0]-Tt_out[0])/dz)/rho_s*As*dz*Cps\n",
        "  dydt[4] = (rho_s*Cps*Fs*(Ts_out[0] - Ts_out[1]) - k*As*(Ts_out[1]-Tt_out[1])/dz)/rho_s*As*dz*Cps\n",
        "  dydt[5] = (rho_s*Cps*Fs*(Ts_out[1] - Ts_out[2]) - k*As*(Ts_out[1]-Tt_out[2])/dz)/rho_s*As*dz*Cps\n",
        "\n",
        "  return dydt"
      ],
      "metadata": {
        "id": "fedSJcZDEgT3"
      },
      "execution_count": 52,
      "outputs": []
    },
    {
      "cell_type": "code",
      "source": [
        "x = odeint(EDO, x0, t)\n",
        "x"
      ],
      "metadata": {
        "colab": {
          "base_uri": "https://localhost:8080/"
        },
        "id": "zUKeR_rDVMdT",
        "outputId": "99c9081b-0069-466f-9260-4d2b1c040016"
      },
      "execution_count": 53,
      "outputs": [
        {
          "output_type": "execute_result",
          "data": {
            "text/plain": [
              "array([[330.        , 330.        , 330.        , 250.        ,\n",
              "        250.        , 250.        ],\n",
              "       [325.78349702, 321.8955428 , 318.31307626, 252.01707538,\n",
              "        253.87698079, 255.63892693],\n",
              "       [325.78349702, 321.8955428 , 318.31307626, 252.01707538,\n",
              "        253.87698079, 255.63892693],\n",
              "       [325.78349702, 321.8955428 , 318.31307626, 252.01707538,\n",
              "        253.87698079, 255.63892693],\n",
              "       [325.78349702, 321.8955428 , 318.31307626, 252.01707538,\n",
              "        253.87698079, 255.63892693],\n",
              "       [325.78349702, 321.8955428 , 318.31307626, 252.01707538,\n",
              "        253.87698079, 255.63892693],\n",
              "       [325.78349702, 321.8955428 , 318.31307626, 252.01707538,\n",
              "        253.87698079, 255.63892693],\n",
              "       [325.78349702, 321.8955428 , 318.31307626, 252.01707538,\n",
              "        253.87698079, 255.63892693],\n",
              "       [325.78349702, 321.8955428 , 318.31307626, 252.01707538,\n",
              "        253.87698079, 255.63892693],\n",
              "       [325.78349702, 321.8955428 , 318.31307626, 252.01707538,\n",
              "        253.87698079, 255.63892693]])"
            ]
          },
          "metadata": {},
          "execution_count": 53
        }
      ]
    },
    {
      "cell_type": "code",
      "source": [
        "Tt_out = x[:,3:]\n",
        "Tt_out"
      ],
      "metadata": {
        "colab": {
          "base_uri": "https://localhost:8080/"
        },
        "id": "DiKaNuJ6aubZ",
        "outputId": "43c28c49-bc99-4530-aaff-19c7263eb3e0"
      },
      "execution_count": 54,
      "outputs": [
        {
          "output_type": "execute_result",
          "data": {
            "text/plain": [
              "array([[250.        , 250.        , 250.        ],\n",
              "       [252.01707538, 253.87698079, 255.63892693],\n",
              "       [252.01707538, 253.87698079, 255.63892693],\n",
              "       [252.01707538, 253.87698079, 255.63892693],\n",
              "       [252.01707538, 253.87698079, 255.63892693],\n",
              "       [252.01707538, 253.87698079, 255.63892693],\n",
              "       [252.01707538, 253.87698079, 255.63892693],\n",
              "       [252.01707538, 253.87698079, 255.63892693],\n",
              "       [252.01707538, 253.87698079, 255.63892693],\n",
              "       [252.01707538, 253.87698079, 255.63892693]])"
            ]
          },
          "metadata": {},
          "execution_count": 54
        }
      ]
    },
    {
      "cell_type": "code",
      "source": [
        "Ts_out = x[:,0:5]\n",
        "Ts_out"
      ],
      "metadata": {
        "colab": {
          "base_uri": "https://localhost:8080/"
        },
        "id": "WG9TFi4-bE5_",
        "outputId": "4248b483-c6f1-4206-c330-3b98c6319b90"
      },
      "execution_count": 55,
      "outputs": [
        {
          "output_type": "execute_result",
          "data": {
            "text/plain": [
              "array([[330.        , 330.        , 330.        , 250.        ,\n",
              "        250.        ],\n",
              "       [325.78349702, 321.8955428 , 318.31307626, 252.01707538,\n",
              "        253.87698079],\n",
              "       [325.78349702, 321.8955428 , 318.31307626, 252.01707538,\n",
              "        253.87698079],\n",
              "       [325.78349702, 321.8955428 , 318.31307626, 252.01707538,\n",
              "        253.87698079],\n",
              "       [325.78349702, 321.8955428 , 318.31307626, 252.01707538,\n",
              "        253.87698079],\n",
              "       [325.78349702, 321.8955428 , 318.31307626, 252.01707538,\n",
              "        253.87698079],\n",
              "       [325.78349702, 321.8955428 , 318.31307626, 252.01707538,\n",
              "        253.87698079],\n",
              "       [325.78349702, 321.8955428 , 318.31307626, 252.01707538,\n",
              "        253.87698079],\n",
              "       [325.78349702, 321.8955428 , 318.31307626, 252.01707538,\n",
              "        253.87698079],\n",
              "       [325.78349702, 321.8955428 , 318.31307626, 252.01707538,\n",
              "        253.87698079]])"
            ]
          },
          "metadata": {},
          "execution_count": 55
        }
      ]
    },
    {
      "cell_type": "code",
      "source": [
        "plt.plot(t,Tt_out[:,2],label = ' Temperatura de Saída no Tubo ')\n",
        "plt.plot(t,Ts_out[:,2],label = ' Temperatura de Saída no Casco ')\n",
        "plt.xlabel (\"Tempo, t (s)\")\n",
        "plt.ylabel (\"Temperatura, T (K)\")\n",
        "plt.legend()\n",
        "plt.show()"
      ],
      "metadata": {
        "colab": {
          "base_uri": "https://localhost:8080/",
          "height": 449
        },
        "id": "gB5gO7TMCmpE",
        "outputId": "c5c22f11-c8ba-4450-faee-81e9db39ecbf"
      },
      "execution_count": 56,
      "outputs": [
        {
          "output_type": "display_data",
          "data": {
            "text/plain": [
              "<Figure size 640x480 with 1 Axes>"
            ],
            "image/png": "[encoded data removed]"
          },
          "metadata": {}
        }
      ]
    },
    {
      "cell_type": "markdown",
      "source": [
        "#Referências\n",
        "\n",
        "1. Libre Texts Engineering - Acessado em 01 de junho de 2023: https://eng.libretexts.org/Bookshelves/Industrial_and_Systems_Engineering/Chemical_Process_Dynamics_and_Controls_(Woolf)/06%3A_Modeling_Case_Studies/6.06%3A_ODE_and_Excel_model_of_a_Heat_Exchanger\n",
        "\n",
        "\n",
        "2. Aula 23 - Trocadores de Calor - Professor Washington Izarrabal (UFJF) - Acessado em 24 de junho de 2023: https://www.ufjf.br/washington_irrazabal/files/2014/05/Aula-23_Trocadores-de-Calor.pdf"
      ],
      "metadata": {
        "id": "QzeJk7v5Dtt3"
      }
    },
    {
      "cell_type": "code",
      "source": [],
      "metadata": {
        "id": "fKKrwl4f2wSh"
      },
      "execution_count": null,
      "outputs": []
    }
  ]
}